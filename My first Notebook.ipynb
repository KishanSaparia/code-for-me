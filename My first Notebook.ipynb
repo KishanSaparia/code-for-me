{
 "cells": [
  {
   "cell_type": "code",
   "execution_count": 6,
   "id": "fe6ed9ca",
   "metadata": {},
   "outputs": [
    {
     "name": "stdout",
     "output_type": "stream",
     "text": [
      "Hello Kishan\n"
     ]
    }
   ],
   "source": [
    "print(\"Hello Kishan\")"
   ]
  },
  {
   "cell_type": "code",
   "execution_count": 7,
   "id": "769e8185",
   "metadata": {},
   "outputs": [
    {
     "name": "stdout",
     "output_type": "stream",
     "text": [
      "Hello guys!, I am kishan Sapariya. How are you?\n"
     ]
    }
   ],
   "source": [
    "print(\"Hello guys!, I am kishan Sapariya. How are you?\")"
   ]
  },
  {
   "cell_type": "code",
   "execution_count": 8,
   "id": "77081f48",
   "metadata": {},
   "outputs": [
    {
     "name": "stdout",
     "output_type": "stream",
     "text": [
      "Kishan\n"
     ]
    }
   ],
   "source": [
    "print('Kishan')"
   ]
  },
  {
   "cell_type": "code",
   "execution_count": 9,
   "id": "07bcad84",
   "metadata": {},
   "outputs": [
    {
     "name": "stdout",
     "output_type": "stream",
     "text": [
      "0.3333333333333333\n"
     ]
    }
   ],
   "source": [
    "x=15\n",
    "y=5\n",
    "print(y/x)"
   ]
  },
  {
   "cell_type": "code",
   "execution_count": 10,
   "id": "8e2dc926",
   "metadata": {},
   "outputs": [
    {
     "name": "stdout",
     "output_type": "stream",
     "text": [
      "20\n",
      "False\n"
     ]
    }
   ],
   "source": [
    "print(x+y)\n",
    "print(x==y)"
   ]
  },
  {
   "cell_type": "code",
   "execution_count": 11,
   "id": "44fb4e6a",
   "metadata": {},
   "outputs": [
    {
     "name": "stdout",
     "output_type": "stream",
     "text": [
      "75\n"
     ]
    }
   ],
   "source": [
    "z=x*y\n",
    "print(z)"
   ]
  },
  {
   "cell_type": "code",
   "execution_count": 12,
   "id": "b748b013",
   "metadata": {},
   "outputs": [
    {
     "name": "stdout",
     "output_type": "stream",
     "text": [
      "Sum of X & Y is = 20\n"
     ]
    }
   ],
   "source": [
    "print('Sum of X & Y is =', x+y)"
   ]
  },
  {
   "cell_type": "code",
   "execution_count": 13,
   "id": "052c24f5",
   "metadata": {},
   "outputs": [
    {
     "name": "stdout",
     "output_type": "stream",
     "text": [
      "the values of X & Y are = 15 & 5 Respectively...\n"
     ]
    }
   ],
   "source": [
    "print(\"the values of X & Y are =\",x, \"&\",y, \"Respectively...\")"
   ]
  },
  {
   "cell_type": "code",
   "execution_count": 14,
   "id": "e5b397a3",
   "metadata": {},
   "outputs": [
    {
     "name": "stdout",
     "output_type": "stream",
     "text": [
      "95\n"
     ]
    }
   ],
   "source": [
    "print(x+y+z)"
   ]
  },
  {
   "cell_type": "code",
   "execution_count": 17,
   "id": "c41f0391",
   "metadata": {},
   "outputs": [
    {
     "name": "stdout",
     "output_type": "stream",
     "text": [
      "values of X ,Y & Z are = 15 , 5 & 75\n"
     ]
    }
   ],
   "source": [
    "print(\"values of X ,Y & Z are =\",x,\",\",y,\"&\",z)"
   ]
  },
  {
   "cell_type": "code",
   "execution_count": 18,
   "id": "da442e48",
   "metadata": {},
   "outputs": [
    {
     "name": "stdout",
     "output_type": "stream",
     "text": [
      "15\n"
     ]
    }
   ],
   "source": [
    "print(x)"
   ]
  },
  {
   "cell_type": "code",
   "execution_count": 19,
   "id": "e60dc6f9",
   "metadata": {},
   "outputs": [
    {
     "name": "stdout",
     "output_type": "stream",
     "text": [
      "400\n"
     ]
    }
   ],
   "source": [
    "c=x*x+2*x*y+y*y\n",
    "print(c)"
   ]
  },
  {
   "cell_type": "code",
   "execution_count": 27,
   "id": "0bb19100",
   "metadata": {},
   "outputs": [
    {
     "name": "stdout",
     "output_type": "stream",
     "text": [
      "100\n"
     ]
    }
   ],
   "source": [
    "C=x*x-2*x*y+y*y\n",
    "print(C)"
   ]
  },
  {
   "cell_type": "code",
   "execution_count": null,
   "id": "c8907dbc",
   "metadata": {},
   "outputs": [],
   "source": []
  }
 ],
 "metadata": {
  "kernelspec": {
   "display_name": "Python 3 (ipykernel)",
   "language": "python",
   "name": "python3"
  },
  "language_info": {
   "codemirror_mode": {
    "name": "ipython",
    "version": 3
   },
   "file_extension": ".py",
   "mimetype": "text/x-python",
   "name": "python",
   "nbconvert_exporter": "python",
   "pygments_lexer": "ipython3",
   "version": "3.9.12"
  }
 },
 "nbformat": 4,
 "nbformat_minor": 5
}
